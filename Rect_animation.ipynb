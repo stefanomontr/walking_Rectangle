{
 "cells": [
  {
   "cell_type": "code",
   "execution_count": 1,
   "id": "96dcc96f-625b-4231-b388-5dfd44db59ec",
   "metadata": {},
   "outputs": [],
   "source": [
    "from IPython.display import HTML\n",
    "%matplotlib qt"
   ]
  },
  {
   "cell_type": "code",
   "execution_count": 2,
   "id": "1560c4c9-7a42-4b35-a1d0-4a3d035c7d5a",
   "metadata": {},
   "outputs": [],
   "source": [
    "%run Rectangle.ipynb"
   ]
  },
  {
   "cell_type": "code",
   "execution_count": 3,
   "id": "5d068e0a-cefe-4ffc-a9fc-88a372e93402",
   "metadata": {},
   "outputs": [],
   "source": [
    "ABCD = Rectangle((0,0), 1, 2, 0)\n",
    "BOX = Rectangle((-1,-1), 5, 4)"
   ]
  },
  {
   "cell_type": "code",
   "execution_count": 4,
   "id": "16655082-64fc-4550-b2a5-cf7684ce0d38",
   "metadata": {},
   "outputs": [],
   "source": [
    "fig, ax = plt.subplots()\n",
    "ax.plot(BOX.points[[*range(4),0],0], BOX.points[[*range(4),0],1], 'r')\n",
    "line, = plt.plot([], [], 'b')\n",
    "vert = 0\n",
    "\n",
    "def init():\n",
    "    ax.set_xlim(-3, 6)\n",
    "    ax.set_ylim(-3, 5)\n",
    "    return line,\n",
    "    \n",
    "def update(frame):\n",
    "    global vert\n",
    "    ABCD.rotate(1, vert)\n",
    "    for j in range(4):\n",
    "        if not BOX.includes(ABCD.points[j]):\n",
    "            ABCD.rotate(-1, vert)\n",
    "            vert = j\n",
    "    line.set_data(ABCD.points[[*range(4),0],0], ABCD.points[[*range(4),0],1])\n",
    "    return line,\n",
    "\n",
    "anim = FuncAnimation(fig, update, init_func = init, frames = 1500, interval = 10)\n",
    "# anim.save('walkingRect.mp4', writer = 'ffmpeg', fps = 30)"
   ]
  },
  {
   "cell_type": "code",
   "execution_count": null,
   "id": "dc581949-700c-4fa3-bfad-19f6e351851c",
   "metadata": {},
   "outputs": [],
   "source": [
    "HTML(anim.to_html5_video())"
   ]
  }
 ],
 "metadata": {
  "kernelspec": {
   "display_name": "Python 3",
   "language": "python",
   "name": "python3"
  },
  "language_info": {
   "codemirror_mode": {
    "name": "ipython",
    "version": 3
   },
   "file_extension": ".py",
   "mimetype": "text/x-python",
   "name": "python",
   "nbconvert_exporter": "python",
   "pygments_lexer": "ipython3",
   "version": "3.8.8"
  }
 },
 "nbformat": 4,
 "nbformat_minor": 5
}
